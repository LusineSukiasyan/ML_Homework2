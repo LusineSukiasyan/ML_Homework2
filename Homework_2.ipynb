{
 "cells": [
  {
   "cell_type": "code",
   "execution_count": 54,
   "metadata": {},
   "outputs": [
    {
     "name": "stdout",
     "output_type": "stream",
     "text": [
      "(23412, 21)\n",
      "9  /  21\n",
      "23398  /  23412\n",
      "(23412, 21)\n",
      "0  /  23412\n"
     ]
    },
    {
     "data": {
      "text/html": [
       "<div>\n",
       "<style scoped>\n",
       "    .dataframe tbody tr th:only-of-type {\n",
       "        vertical-align: middle;\n",
       "    }\n",
       "\n",
       "    .dataframe tbody tr th {\n",
       "        vertical-align: top;\n",
       "    }\n",
       "\n",
       "    .dataframe thead th {\n",
       "        text-align: right;\n",
       "    }\n",
       "</style>\n",
       "<table border=\"1\" class=\"dataframe\">\n",
       "  <thead>\n",
       "    <tr style=\"text-align: right;\">\n",
       "      <th></th>\n",
       "      <th>Date</th>\n",
       "      <th>Time</th>\n",
       "      <th>Latitude</th>\n",
       "      <th>Longitude</th>\n",
       "      <th>Depth</th>\n",
       "      <th>Depth Seismic Stations</th>\n",
       "      <th>Magnitude</th>\n",
       "      <th>Magnitude Seismic Stations</th>\n",
       "      <th>Azimuthal Gap</th>\n",
       "      <th>Horizontal Distance</th>\n",
       "      <th>Horizontal Error</th>\n",
       "      <th>Root Mean Square</th>\n",
       "    </tr>\n",
       "  </thead>\n",
       "  <tbody>\n",
       "    <tr>\n",
       "      <th>0</th>\n",
       "      <td>-157680000000000000</td>\n",
       "      <td>1533908658000000000</td>\n",
       "      <td>19.246</td>\n",
       "      <td>145.616</td>\n",
       "      <td>131.6</td>\n",
       "      <td>275.364098</td>\n",
       "      <td>6.0</td>\n",
       "      <td>48.944618</td>\n",
       "      <td>44.163532</td>\n",
       "      <td>3.99266</td>\n",
       "      <td>7.662759</td>\n",
       "      <td>1.022784</td>\n",
       "    </tr>\n",
       "    <tr>\n",
       "      <th>1</th>\n",
       "      <td>-157507200000000000</td>\n",
       "      <td>1533900589000000000</td>\n",
       "      <td>1.863</td>\n",
       "      <td>127.352</td>\n",
       "      <td>80.0</td>\n",
       "      <td>275.364098</td>\n",
       "      <td>5.8</td>\n",
       "      <td>48.944618</td>\n",
       "      <td>44.163532</td>\n",
       "      <td>3.99266</td>\n",
       "      <td>7.662759</td>\n",
       "      <td>1.022784</td>\n",
       "    </tr>\n",
       "    <tr>\n",
       "      <th>2</th>\n",
       "      <td>-157420800000000000</td>\n",
       "      <td>1533924358000000000</td>\n",
       "      <td>-20.579</td>\n",
       "      <td>-173.972</td>\n",
       "      <td>20.0</td>\n",
       "      <td>275.364098</td>\n",
       "      <td>6.2</td>\n",
       "      <td>48.944618</td>\n",
       "      <td>44.163532</td>\n",
       "      <td>3.99266</td>\n",
       "      <td>7.662759</td>\n",
       "      <td>1.022784</td>\n",
       "    </tr>\n",
       "    <tr>\n",
       "      <th>3</th>\n",
       "      <td>-157161600000000000</td>\n",
       "      <td>1533926983000000000</td>\n",
       "      <td>-59.076</td>\n",
       "      <td>-23.557</td>\n",
       "      <td>15.0</td>\n",
       "      <td>275.364098</td>\n",
       "      <td>5.8</td>\n",
       "      <td>48.944618</td>\n",
       "      <td>44.163532</td>\n",
       "      <td>3.99266</td>\n",
       "      <td>7.662759</td>\n",
       "      <td>1.022784</td>\n",
       "    </tr>\n",
       "    <tr>\n",
       "      <th>4</th>\n",
       "      <td>-157075200000000000</td>\n",
       "      <td>1533907970000000000</td>\n",
       "      <td>11.938</td>\n",
       "      <td>126.427</td>\n",
       "      <td>15.0</td>\n",
       "      <td>275.364098</td>\n",
       "      <td>5.8</td>\n",
       "      <td>48.944618</td>\n",
       "      <td>44.163532</td>\n",
       "      <td>3.99266</td>\n",
       "      <td>7.662759</td>\n",
       "      <td>1.022784</td>\n",
       "    </tr>\n",
       "  </tbody>\n",
       "</table>\n",
       "</div>"
      ],
      "text/plain": [
       "                 Date                 Time  Latitude  Longitude  Depth  \\\n",
       "0 -157680000000000000  1533908658000000000    19.246    145.616  131.6   \n",
       "1 -157507200000000000  1533900589000000000     1.863    127.352   80.0   \n",
       "2 -157420800000000000  1533924358000000000   -20.579   -173.972   20.0   \n",
       "3 -157161600000000000  1533926983000000000   -59.076    -23.557   15.0   \n",
       "4 -157075200000000000  1533907970000000000    11.938    126.427   15.0   \n",
       "\n",
       "   Depth Seismic Stations  Magnitude  Magnitude Seismic Stations  \\\n",
       "0              275.364098        6.0                   48.944618   \n",
       "1              275.364098        5.8                   48.944618   \n",
       "2              275.364098        6.2                   48.944618   \n",
       "3              275.364098        5.8                   48.944618   \n",
       "4              275.364098        5.8                   48.944618   \n",
       "\n",
       "   Azimuthal Gap  Horizontal Distance  Horizontal Error  Root Mean Square  \n",
       "0      44.163532              3.99266          7.662759          1.022784  \n",
       "1      44.163532              3.99266          7.662759          1.022784  \n",
       "2      44.163532              3.99266          7.662759          1.022784  \n",
       "3      44.163532              3.99266          7.662759          1.022784  \n",
       "4      44.163532              3.99266          7.662759          1.022784  "
      ]
     },
     "execution_count": 54,
     "metadata": {},
     "output_type": "execute_result"
    }
   ],
   "source": [
    "import numpy as np\n",
    "import pandas as pd\n",
    "import matplotlib.pyplot as plt\n",
    "import xgboost \n",
    "from scipy.stats import pearsonr\n",
    "from sklearn.linear_model import LinearRegression\n",
    "from sklearn import cross_validation, tree, linear_model\n",
    "from sklearn.model_selection import train_test_split\n",
    "from sklearn.model_selection import cross_val_score\n",
    "\n",
    "data = pd.read_csv(\"C:/Users/x555l/Desktop/ML_ACA/database.csv\")\n",
    "print(data.shape)\n",
    "\n",
    "# Check any number of columns with NaN\n",
    "print(data.isnull().any().sum(), ' / ', len(data.columns))\n",
    "# Check any number of data points with NaN\n",
    "print(data.isnull().any(axis=1).sum(), ' / ', len(data))\n",
    "\n",
    "data.dropna(axis = 1, how = 'all')\n",
    "print(data.shape)\n",
    "\n",
    "to_drop = ['Type','Depth Error','Magnitude Error','Magnitude Source','Status','Magnitude Type','ID','Source' ,'Location Source', 'Magnitude Source']\n",
    "data.drop(to_drop, inplace = True, axis = 1)\n",
    "\n",
    "data.fillna(data.mean(), inplace = True)\n",
    "\n",
    "data['Date'] = pd.to_datetime(data['Date'])\n",
    "data['Time'] = pd.to_datetime(data['Time'])\n",
    "\n",
    "data['Date'] = pd.to_numeric(data['Date'])\n",
    "data['Time'] = pd.to_numeric(data['Time'])\n",
    "\n",
    "\n",
    "print(data.isnull().any(axis=1).sum(), ' / ', len(data))\n",
    "data.head()"
   ]
  },
  {
   "cell_type": "code",
   "execution_count": 55,
   "metadata": {},
   "outputs": [
    {
     "data": {
      "text/plain": [
       "'Magnitude'"
      ]
     },
     "execution_count": 55,
     "metadata": {},
     "output_type": "execute_result"
    }
   ],
   "source": [
    "features = data.iloc[:,:6].columns.tolist() + data.iloc[:,7:].columns.tolist()\n",
    "target = data.iloc[:,6].name\n",
    "target\n"
   ]
  },
  {
   "cell_type": "code",
   "execution_count": 56,
   "metadata": {},
   "outputs": [],
   "source": [
    "correlations = {}\n",
    "for f in features:\n",
    "    data_temp = data[[f,target]]\n",
    "    a = data_temp[f].values.astype(int)\n",
    "    b = data_temp[target].values\n",
    "    key = f + ' vs ' + target\n",
    "    correlations[key] = pearsonr(a,b)[0]"
   ]
  },
  {
   "cell_type": "code",
   "execution_count": 57,
   "metadata": {},
   "outputs": [
    {
     "data": {
      "text/html": [
       "<div>\n",
       "<style scoped>\n",
       "    .dataframe tbody tr th:only-of-type {\n",
       "        vertical-align: middle;\n",
       "    }\n",
       "\n",
       "    .dataframe tbody tr th {\n",
       "        vertical-align: top;\n",
       "    }\n",
       "\n",
       "    .dataframe thead th {\n",
       "        text-align: right;\n",
       "    }\n",
       "</style>\n",
       "<table border=\"1\" class=\"dataframe\">\n",
       "  <thead>\n",
       "    <tr style=\"text-align: right;\">\n",
       "      <th></th>\n",
       "      <th>Value</th>\n",
       "    </tr>\n",
       "  </thead>\n",
       "  <tbody>\n",
       "    <tr>\n",
       "      <th>Depth Seismic Stations vs Magnitude</th>\n",
       "      <td>0.243903</td>\n",
       "    </tr>\n",
       "    <tr>\n",
       "      <th>Azimuthal Gap vs Magnitude</th>\n",
       "      <td>-0.132397</td>\n",
       "    </tr>\n",
       "    <tr>\n",
       "      <th>Root Mean Square vs Magnitude</th>\n",
       "      <td>0.072973</td>\n",
       "    </tr>\n",
       "    <tr>\n",
       "      <th>Longitude vs Magnitude</th>\n",
       "      <td>0.038605</td>\n",
       "    </tr>\n",
       "    <tr>\n",
       "      <th>Latitude vs Magnitude</th>\n",
       "      <td>0.035081</td>\n",
       "    </tr>\n",
       "    <tr>\n",
       "      <th>Horizontal Distance vs Magnitude</th>\n",
       "      <td>-0.024818</td>\n",
       "    </tr>\n",
       "    <tr>\n",
       "      <th>Depth vs Magnitude</th>\n",
       "      <td>0.023503</td>\n",
       "    </tr>\n",
       "    <tr>\n",
       "      <th>Horizontal Error vs Magnitude</th>\n",
       "      <td>-0.018137</td>\n",
       "    </tr>\n",
       "    <tr>\n",
       "      <th>Date vs Magnitude</th>\n",
       "      <td>0.006152</td>\n",
       "    </tr>\n",
       "    <tr>\n",
       "      <th>Time vs Magnitude</th>\n",
       "      <td>-0.006134</td>\n",
       "    </tr>\n",
       "    <tr>\n",
       "      <th>Magnitude Seismic Stations vs Magnitude</th>\n",
       "      <td>-0.002747</td>\n",
       "    </tr>\n",
       "  </tbody>\n",
       "</table>\n",
       "</div>"
      ],
      "text/plain": [
       "                                            Value\n",
       "Depth Seismic Stations vs Magnitude      0.243903\n",
       "Azimuthal Gap vs Magnitude              -0.132397\n",
       "Root Mean Square vs Magnitude            0.072973\n",
       "Longitude vs Magnitude                   0.038605\n",
       "Latitude vs Magnitude                    0.035081\n",
       "Horizontal Distance vs Magnitude        -0.024818\n",
       "Depth vs Magnitude                       0.023503\n",
       "Horizontal Error vs Magnitude           -0.018137\n",
       "Date vs Magnitude                        0.006152\n",
       "Time vs Magnitude                       -0.006134\n",
       "Magnitude Seismic Stations vs Magnitude -0.002747"
      ]
     },
     "execution_count": 57,
     "metadata": {},
     "output_type": "execute_result"
    }
   ],
   "source": [
    "data_correlations = pd.DataFrame(correlations, index=['Value']).T\n",
    "data_correlations.loc[data_correlations['Value'].abs().sort_values(ascending=False).index]"
   ]
  },
  {
   "cell_type": "code",
   "execution_count": 58,
   "metadata": {},
   "outputs": [],
   "source": [
    "new_data = data[features]"
   ]
  },
  {
   "cell_type": "code",
   "execution_count": 59,
   "metadata": {},
   "outputs": [
    {
     "data": {
      "text/plain": [
       "(23412,)"
      ]
     },
     "execution_count": 59,
     "metadata": {},
     "output_type": "execute_result"
    }
   ],
   "source": [
    "X = new_data.values\n",
    "y = data[target].values\n",
    "y.shape"
   ]
  },
  {
   "cell_type": "code",
   "execution_count": 60,
   "metadata": {},
   "outputs": [],
   "source": [
    "X_train, X_test, y_train, y_test = train_test_split(X,y,test_size = 0.2)\n",
    "\n",
    "\n"
   ]
  },
  {
   "cell_type": "raw",
   "metadata": {},
   "source": []
  },
  {
   "cell_type": "markdown",
   "metadata": {},
   "source": [
    "# Linear Regression\n"
   ]
  },
  {
   "cell_type": "code",
   "execution_count": 61,
   "metadata": {},
   "outputs": [
    {
     "name": "stdout",
     "output_type": "stream",
     "text": [
      "0.18333102349945948\n"
     ]
    },
    {
     "data": {
      "text/plain": [
       "array([0.17481495, 0.19284125, 0.18376666])"
      ]
     },
     "execution_count": 61,
     "metadata": {},
     "output_type": "execute_result"
    }
   ],
   "source": [
    "regr = LinearRegression()\n",
    "regr.fit(X_train, y_train)\n",
    "print(np.mean((regr.predict(X_test) - y_test) ** 2))\n",
    "-cross_val_score(regr,X_test,y_test,scoring='neg_mean_squared_error')"
   ]
  },
  {
   "cell_type": "markdown",
   "metadata": {},
   "source": [
    "# Tree Classifier\n"
   ]
  },
  {
   "cell_type": "code",
   "execution_count": 62,
   "metadata": {},
   "outputs": [],
   "source": [
    "from sklearn.model_selection import cross_val_score\n",
    "from sklearn.tree import DecisionTreeRegressor\n"
   ]
  },
  {
   "cell_type": "code",
   "execution_count": 63,
   "metadata": {},
   "outputs": [
    {
     "name": "stdout",
     "output_type": "stream",
     "text": [
      "0.28743333333333343\n"
     ]
    },
    {
     "data": {
      "text/plain": [
       "array([0.28684004, 0.31202229, 0.31345657])"
      ]
     },
     "execution_count": 63,
     "metadata": {},
     "output_type": "execute_result"
    }
   ],
   "source": [
    "clf = DecisionTreeRegressor()\n",
    "clf.fit(X_train,y_train)\n",
    "print(np.mean((clf.predict(X_test) - y_test) ** 2))\n",
    "-cross_val_score(clf,X_test,y_test,scoring='neg_mean_squared_error')"
   ]
  },
  {
   "cell_type": "markdown",
   "metadata": {},
   "source": [
    "# XGB\n"
   ]
  },
  {
   "cell_type": "code",
   "execution_count": 64,
   "metadata": {},
   "outputs": [
    {
     "data": {
      "text/plain": [
       "array([0.15427853, 0.16177469, 0.14847768])"
      ]
     },
     "execution_count": 64,
     "metadata": {},
     "output_type": "execute_result"
    }
   ],
   "source": [
    "xgb = xgboost.XGBRegressor(n_estimators=100, learning_rate=0.08, gamma=0, subsample=0.75,\n",
    "                           colsample_bytree=1, max_depth=7)\n",
    "\n",
    "traindf, testdf = train_test_split(X_train, test_size = 0.3)\n",
    "xgb.fit(X_train,y_train)\n",
    "\n",
    "predictions = xgb.predict(X_test)\n",
    "np.mean((predictions - y_test) ** 2)\n",
    "-cross_val_score(xgb,X_test,y_test,scoring='neg_mean_squared_error')"
   ]
  },
  {
   "cell_type": "code",
   "execution_count": null,
   "metadata": {},
   "outputs": [],
   "source": []
  },
  {
   "cell_type": "code",
   "execution_count": null,
   "metadata": {},
   "outputs": [],
   "source": []
  }
 ],
 "metadata": {
  "kernelspec": {
   "display_name": "Python 3",
   "language": "python",
   "name": "python3"
  },
  "language_info": {
   "codemirror_mode": {
    "name": "ipython",
    "version": 3
   },
   "file_extension": ".py",
   "mimetype": "text/x-python",
   "name": "python",
   "nbconvert_exporter": "python",
   "pygments_lexer": "ipython3",
   "version": "3.6.4"
  }
 },
 "nbformat": 4,
 "nbformat_minor": 2
}
